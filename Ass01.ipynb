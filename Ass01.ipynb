{
 "cells": [
  {
   "cell_type": "markdown",
   "metadata": {},
   "source": [
    "# CSE 220 ASSignment 01"
   ]
  },
  {
   "cell_type": "markdown",
   "metadata": {},
   "source": [
    " "
   ]
  },
  {
   "cell_type": "code",
   "execution_count": null,
   "metadata": {},
   "outputs": [],
   "source": []
  },
  {
   "cell_type": "markdown",
   "metadata": {},
   "source": [
    "#### Problem 01"
   ]
  },
  {
   "cell_type": "code",
   "execution_count": null,
   "metadata": {},
   "outputs": [],
   "source": []
  },
  {
   "cell_type": "code",
   "execution_count": 1,
   "metadata": {},
   "outputs": [
    {
     "name": "stdout",
     "output_type": "stream",
     "text": [
      "[40, 50, 60, 0, 0, 0]\n"
     ]
    }
   ],
   "source": [
    "\n",
    "\n",
    "def shiftLeft(source, k):\n",
    "    i = 0\n",
    "    while i < len(source):\n",
    "        if i < len(source)-k:\n",
    "            source[i]= source[k+i] \n",
    "        else:\n",
    "            source[i] = 0\n",
    "            \n",
    "        i += 1\n",
    "        \n",
    "    print(source)   \n",
    "       \n",
    "      \n",
    "source = [10, 20, 30, 40, 50, 60]\n",
    "shiftLeft(source, 3)\n",
    "\n",
    "\n"
   ]
  },
  {
   "cell_type": "code",
   "execution_count": 3,
   "metadata": {},
   "outputs": [],
   "source": []
  },
  {
   "cell_type": "markdown",
   "metadata": {},
   "source": [
    "#### Problem 02"
   ]
  },
  {
   "cell_type": "code",
   "execution_count": null,
   "metadata": {},
   "outputs": [],
   "source": []
  },
  {
   "cell_type": "code",
   "execution_count": 2,
   "metadata": {},
   "outputs": [
    {
     "name": "stdout",
     "output_type": "stream",
     "text": [
      "[40, 50, 60, 10, 20, 30]\n"
     ]
    }
   ],
   "source": [
    "def rotateLeft(source,k):\n",
    "    i = 0\n",
    "    while i < len(source) - k:\n",
    "        temp = source[i]\n",
    "        source[i] = source[k+i]\n",
    "        source[k+i] = temp\n",
    "        i += 1\n",
    "    print(source)\n",
    "    \n",
    "source=[10, 20, 30, 40, 50, 60]   \n",
    "rotateLeft(source,3)"
   ]
  },
  {
   "cell_type": "code",
   "execution_count": null,
   "metadata": {},
   "outputs": [],
   "source": []
  },
  {
   "cell_type": "markdown",
   "metadata": {},
   "source": [
    "#### Problem 03"
   ]
  },
  {
   "cell_type": "code",
   "execution_count": null,
   "metadata": {},
   "outputs": [],
   "source": []
  },
  {
   "cell_type": "code",
   "execution_count": 3,
   "metadata": {},
   "outputs": [
    {
     "name": "stdout",
     "output_type": "stream",
     "text": [
      "[10, 20, 40, 50, 0, 0, 0]\n"
     ]
    }
   ],
   "source": [
    "def remove(source, size, idx):\n",
    "    i = idx\n",
    "    while i < size:\n",
    "        source[i] = source[i+1]\n",
    "        i += 1\n",
    "    print(source)\n",
    "    \n",
    "source=[10,20,30,40,50, 0,0]  \n",
    "remove(source,5,2)"
   ]
  },
  {
   "cell_type": "code",
   "execution_count": null,
   "metadata": {},
   "outputs": [],
   "source": []
  },
  {
   "cell_type": "markdown",
   "metadata": {},
   "source": [
    "### problem 4"
   ]
  },
  {
   "cell_type": "code",
   "execution_count": null,
   "metadata": {},
   "outputs": [],
   "source": []
  },
  {
   "cell_type": "code",
   "execution_count": 1,
   "metadata": {},
   "outputs": [
    {
     "name": "stdout",
     "output_type": "stream",
     "text": [
      "[10, 30, 50, 0, 0, 0, 0, 0, 0]\n"
     ]
    }
   ],
   "source": [
    "# def removeAll( source, size, element):\n",
    "#     for i in range(size):\n",
    "#         if source[i] == element:\n",
    "#             for j in range(i, size):\n",
    "#                 source[j] = source[j+1]\n",
    "#             #source[size-i] = 0\n",
    "#             print(source)\n",
    "    \n",
    "    \n",
    "# source=[10, 2, 30, 2, 2, 50, 2, 2, 0, 0]\n",
    "# removeAll(source,8,2)\n",
    "\n",
    "\n",
    "def removeAll( source, size, element):\n",
    "    for i in range(size):\n",
    "        if source[i] == element:\n",
    "            source[i] = 0\n",
    "    for j in range(size):\n",
    "        if source[j] == 0:\n",
    "            k = j\n",
    "            while k < size:\n",
    "                if source[k] != 0:\n",
    "                    source[j] = source[k]\n",
    "                    source[k] = 0\n",
    "                    break\n",
    "                k += 1\n",
    "    print(source)\n",
    "\n",
    "source=[10, 2, 30, 2, 50, 2, 2, 0, 0]\n",
    "removeAll(source,7,2)"
   ]
  },
  {
   "cell_type": "code",
   "execution_count": null,
   "metadata": {},
   "outputs": [],
   "source": []
  },
  {
   "cell_type": "markdown",
   "metadata": {},
   "source": [
    "### problem 5\n",
    "\n"
   ]
  },
  {
   "cell_type": "code",
   "execution_count": null,
   "metadata": {},
   "outputs": [],
   "source": []
  },
  {
   "cell_type": "code",
   "execution_count": 2,
   "metadata": {},
   "outputs": [
    {
     "name": "stdout",
     "output_type": "stream",
     "text": [
      "True\n"
     ]
    }
   ],
   "source": [
    "def weightDistro(arr):\n",
    "    sum1 = 0\n",
    "    judge = False\n",
    "    for i in range(len(arr)):\n",
    "        sum1 = sum1 + arr[i]\n",
    "        sum2 = 0\n",
    "        for j in range(i+1, len(arr)):\n",
    "            sum2 = sum2 + arr[j]\n",
    "        if sum1 == sum2:\n",
    "            judge = True\n",
    "            break\n",
    "    print(judge)\n",
    "        \n",
    "arr = [10, 3, 1, 2, 10]\n",
    "weightDistro(arr)"
   ]
  },
  {
   "cell_type": "code",
   "execution_count": null,
   "metadata": {},
   "outputs": [],
   "source": []
  },
  {
   "cell_type": "markdown",
   "metadata": {},
   "source": [
    "### problem 6"
   ]
  },
  {
   "cell_type": "code",
   "execution_count": null,
   "metadata": {},
   "outputs": [],
   "source": []
  },
  {
   "cell_type": "code",
   "execution_count": 3,
   "metadata": {},
   "outputs": [
    {
     "name": "stdout",
     "output_type": "stream",
     "text": [
      "5\n",
      "[0, 0, 0, 0, 1, 0, 0, 0, 2, 1, 0, 0, 3, 2, 1, 0, 4, 3, 2, 1, 5, 4, 3, 2, 1]\n"
     ]
    }
   ],
   "source": [
    "\n",
    "\n",
    "def arraySeries(n):\n",
    "    n_list = [0 for _ in range(n*n)]\n",
    "    x = n-1\n",
    "    for i in range(0, len(n_list), n):\n",
    "        # for j in range(x):\n",
    "        #     n_list[i+j] = 0 \n",
    "        for k in range(n-x):\n",
    "            n_list[i + (n - 1 - k)] =  k+1  \n",
    "        x = x-1  \n",
    "    print(n_list)\n",
    "\n",
    "n = int(input())\n",
    "arraySeries(n)\n",
    "\n"
   ]
  },
  {
   "cell_type": "code",
   "execution_count": null,
   "metadata": {},
   "outputs": [],
   "source": []
  },
  {
   "cell_type": "markdown",
   "metadata": {},
   "source": [
    "### problem 7"
   ]
  },
  {
   "cell_type": "code",
   "execution_count": null,
   "metadata": {},
   "outputs": [],
   "source": []
  },
  {
   "cell_type": "code",
   "execution_count": 4,
   "metadata": {},
   "outputs": [
    {
     "name": "stdout",
     "output_type": "stream",
     "text": [
      "4\n"
     ]
    }
   ],
   "source": [
    "def maxBouchCount(arr):\n",
    "    l = len(arr)\n",
    "    # len_arr = []\n",
    "    max_val = 0\n",
    "    for i in range(l):\n",
    "        count = 1\n",
    "        for j in range(i+1, l):\n",
    "            if arr[i] == arr[j]:\n",
    "                count = count + 1\n",
    "            else:\n",
    "                break  \n",
    "        if count > max_val:\n",
    "            max_val = count\n",
    "    #     len_arr.append(count)\n",
    "    # len_arr = sorted(len_arr)\n",
    "    # print(len_arr[len(len_arr)-1])\n",
    "    print(max_val)\n",
    "\n",
    "arr = [1,1,2, 2, 1, 1,1,1]\n",
    "maxBouchCount(arr)"
   ]
  },
  {
   "cell_type": "code",
   "execution_count": null,
   "metadata": {},
   "outputs": [],
   "source": []
  },
  {
   "cell_type": "markdown",
   "metadata": {},
   "source": [
    "### problem 8"
   ]
  },
  {
   "cell_type": "code",
   "execution_count": null,
   "metadata": {},
   "outputs": [],
   "source": []
  },
  {
   "cell_type": "code",
   "execution_count": 9,
   "metadata": {},
   "outputs": [
    {
     "name": "stdout",
     "output_type": "stream",
     "text": [
      "True\n"
     ]
    }
   ],
   "source": [
    "\n",
    "def printRepeating(arr):\n",
    "    arr2 = list(set(arr))\n",
    "    arr3 = []\n",
    "    judge = False\n",
    "    for i in range (len(arr2)):\n",
    "        count = 0\n",
    "        for j in range (len(arr)):\n",
    "            if arr2[i] == arr[j]:\n",
    "                count = count + 1\n",
    "        arr3.append(count)\n",
    "        \n",
    "#     print(arr3)\n",
    "    for i in range (0, len(arr3)-1):\n",
    "        for j in range (i + 1, len(arr3)):\n",
    "            if arr3[i] != 1:\n",
    "                if arr3[i] == arr3[j]:\n",
    "                    judge = True\n",
    "                    break\n",
    "                \n",
    "    print(judge)\n",
    "                \n",
    "\n",
    "arr = [4,5,6,6,4,3,6,4]\n",
    "printRepeating(arr)\n",
    "\n",
    "# [3,4,6,3,4,7,4,6,8,6,6]\n",
    "# [4,5,6,6,4,3,6,4]"
   ]
  },
  {
   "cell_type": "code",
   "execution_count": null,
   "metadata": {},
   "outputs": [],
   "source": []
  },
  {
   "cell_type": "code",
   "execution_count": null,
   "metadata": {},
   "outputs": [],
   "source": []
  },
  {
   "cell_type": "markdown",
   "metadata": {},
   "source": [
    "# Cicular array"
   ]
  },
  {
   "cell_type": "markdown",
   "metadata": {},
   "source": [
    "### problem 1"
   ]
  },
  {
   "cell_type": "code",
   "execution_count": null,
   "metadata": {},
   "outputs": [],
   "source": []
  },
  {
   "cell_type": "code",
   "execution_count": 10,
   "metadata": {},
   "outputs": [
    {
     "name": "stdout",
     "output_type": "stream",
     "text": [
      "Palindrome\n"
     ]
    }
   ],
   "source": [
    "def palindrome(arr, start, size):\n",
    "    s = start\n",
    "    last = (start + size-1)%len(arr)\n",
    "    count = 0\n",
    "    for i in range(size//2):\n",
    "        if arr[s+i] == arr[last-i]:\n",
    "            count += 1\n",
    "        else:\n",
    "            pass\n",
    "\n",
    "    if count == size//2:\n",
    "        print(\"Palindrome\")\n",
    "    else:\n",
    "        print(\"Not palindrome\")\n",
    "\n",
    "arr = [20,10,0,0,0,10,20,30]\n",
    "palindrome(arr, 5, 5)  "
   ]
  },
  {
   "cell_type": "code",
   "execution_count": null,
   "metadata": {},
   "outputs": [],
   "source": []
  },
  {
   "cell_type": "markdown",
   "metadata": {},
   "source": [
    "### problem 2"
   ]
  },
  {
   "cell_type": "code",
   "execution_count": null,
   "metadata": {},
   "outputs": [],
   "source": []
  },
  {
   "cell_type": "code",
   "execution_count": 11,
   "metadata": {},
   "outputs": [
    {
     "name": "stdout",
     "output_type": "stream",
     "text": [
      "[10, 20, 40]\n"
     ]
    }
   ],
   "source": [
    "def returnLinear(arr1, arr2, start1, start2, size1, size2):\n",
    "    s1 = start1\n",
    "    \n",
    "    arr3 = []\n",
    "    for i in range(size1):\n",
    "        x = arr1[s1]\n",
    "        s2 = start2\n",
    "        for j in range(size2):\n",
    "            y = arr2[s2]\n",
    "#             print(f\"{x} -> {y}\")\n",
    "            if y == x:\n",
    "                arr3.append(x)\n",
    "            else:\n",
    "                pass\n",
    "            s2 = (s2 + 1)%len(arr2)\n",
    "            \n",
    "        s1 = (s1 + 1)%len(arr1)\n",
    "    print(arr3)\n",
    "    \n",
    "arr1 = [40,50,0,0,0,10,20,30]\n",
    "arr2 = [10,20,5,0,0,0,0,0,5,40,15,25]\n",
    "\n",
    "returnLinear(arr1, arr2, 5, 8, 5, 7)"
   ]
  },
  {
   "cell_type": "code",
   "execution_count": null,
   "metadata": {},
   "outputs": [],
   "source": []
  },
  {
   "cell_type": "code",
   "execution_count": null,
   "metadata": {},
   "outputs": [],
   "source": []
  },
  {
   "cell_type": "markdown",
   "metadata": {},
   "source": [
    "### problem 3"
   ]
  },
  {
   "cell_type": "code",
   "execution_count": null,
   "metadata": {},
   "outputs": [],
   "source": []
  },
  {
   "cell_type": "code",
   "execution_count": 18,
   "metadata": {},
   "outputs": [
    {
     "name": "stdout",
     "output_type": "stream",
     "text": [
      "(x) chandu is Eliminated!\n",
      "(x) Randu is Eliminated!\n",
      "(x) Gandu is Eliminated!\n",
      "(x) jhandu is Eliminated!\n",
      "(x) Pandu is Eliminated!\n",
      "(x) andu is Eliminated!\n",
      "#================######==================#\n",
      "\n",
      "* Mandu is the Winner *\n",
      "\n",
      "#================######==================#\n"
     ]
    }
   ],
   "source": [
    "# import random as ran\n",
    "\n",
    "# def musicalChair(arr):\n",
    "#     # start = 0\n",
    "#     # # ind = start\n",
    "#     size = 7\n",
    "    \n",
    "#     while size > 1:\n",
    "#         music = ran.randint(0, 3)\n",
    "        \n",
    "#         for i in range(len(arr)-1):\n",
    "#             temp = arr[0]\n",
    "#             arr[0] = arr[i+1]\n",
    "#             arr[i+1] = temp\n",
    "#         if music == 1:\n",
    "#             print(f\"(x) {arr[size//2]} is Eliminated!\")\n",
    "#             arr[size//2] = 0\n",
    "#             new_arr = []\n",
    "#             for i in range(len(arr)):\n",
    "#                 if i != size//2:\n",
    "#                     new_arr.append(arr[i])\n",
    "#             size -= 1\n",
    "#             arr = new_arr\n",
    "#     print(\"#================######==================#\\n\")\n",
    "            \n",
    "#     print(f\"* {arr[0]} is the Winner *\")\n",
    "    \n",
    "#     print(\"\\n#================######==================#\")\n",
    "        \n",
    "        \n",
    "\n",
    "# arr = [\"Gandu\", \"Pandu\", \"chandu\", \"Mandu\", \"andu\", \"Randu\", \"jhandu\"]\n",
    "# musicalChair(arr)\n"
   ]
  },
  {
   "cell_type": "code",
   "execution_count": 12,
   "metadata": {},
   "outputs": [
    {
     "name": "stdout",
     "output_type": "stream",
     "text": [
      "(x) chandu is Eliminated!\n",
      "(x) Gandu is Eliminated!\n",
      "(x) Pandu is Eliminated!\n",
      "(x) Randu is Eliminated!\n",
      "(x) jhandu is Eliminated!\n",
      "(x) andu is Eliminated!\n",
      "#================######==================#\n",
      "\n",
      "* Mandu is the Winner *\n",
      "\n",
      "#================######==================#\n"
     ]
    }
   ],
   "source": [
    "import random as ran\n",
    "\n",
    "def musicalChair(arr, size):\n",
    "    # start = 0\n",
    "    # ind = start\n",
    "    # size = 7\n",
    "    \n",
    "    while size > 1:\n",
    "        music = ran.randint(0, 3)\n",
    "        \n",
    "        for i in range(len(arr)-1):\n",
    "            temp = arr[0]\n",
    "            arr[0] = arr[i+1]\n",
    "            arr[i+1] = temp\n",
    "        # print(arr)\n",
    "        # print(music)\n",
    "        if music == 1:\n",
    "            print(f\"(x) {arr[size//2]} is Eliminated!\")\n",
    "            # arr[size//2] = 0\n",
    "            # new_arr = []\n",
    "            remove = size//2 \n",
    "            for i in range(remove, size - 1):\n",
    "                arr[i] = arr[i+1]\n",
    "            arr[size-1] = 0\n",
    "            size -= 1\n",
    "            new_arr = [0 for _ in range(size)]\n",
    "\n",
    "            for i in range(size):\n",
    "                new_arr[i] = arr[i]\n",
    "            arr = new_arr\n",
    "    print(\"#================######==================#\\n\")\n",
    "            \n",
    "    print(f\"* {arr[0]} is the Winner *\")\n",
    "    \n",
    "    print(\"\\n#================######==================#\")\n",
    "        \n",
    "        \n",
    "\n",
    "arr = [\"Gandu\", \"Pandu\", \"chandu\", \"Mandu\", \"andu\", \"Randu\", \"jhandu\"]\n",
    "musicalChair(arr, 7)\n"
   ]
  },
  {
   "cell_type": "code",
   "execution_count": null,
   "metadata": {},
   "outputs": [],
   "source": []
  },
  {
   "cell_type": "code",
   "execution_count": null,
   "metadata": {},
   "outputs": [],
   "source": []
  }
 ],
 "metadata": {
  "kernelspec": {
   "display_name": "Python 3",
   "language": "python",
   "name": "python3"
  },
  "language_info": {
   "codemirror_mode": {
    "name": "ipython",
    "version": 3
   },
   "file_extension": ".py",
   "mimetype": "text/x-python",
   "name": "python",
   "nbconvert_exporter": "python",
   "pygments_lexer": "ipython3",
   "version": "3.7.3"
  }
 },
 "nbformat": 4,
 "nbformat_minor": 2
}
